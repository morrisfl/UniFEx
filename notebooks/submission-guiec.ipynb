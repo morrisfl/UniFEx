{
 "metadata": {
  "kernelspec": {
   "language": "python",
   "display_name": "Python 3",
   "name": "python3"
  },
  "language_info": {
   "pygments_lexer": "ipython3",
   "nbconvert_exporter": "python",
   "version": "3.6.4",
   "file_extension": ".py",
   "codemirror_mode": {
    "name": "ipython",
    "version": 3
   },
   "name": "python",
   "mimetype": "text/x-python"
  },
  "kaggle": {
   "accelerator": "none",
   "dataSources": [
    {
     "sourceId": 36414,
     "databundleVersionId": 3974967,
     "sourceType": "competition"
    }
   ],
   "dockerImageVersionId": 30527,
   "isInternetEnabled": true,
   "language": "python",
   "sourceType": "notebook",
   "isGpuEnabled": false
  }
 },
 "nbformat_minor": 4,
 "nbformat": 4,
 "cells": [
  {
   "cell_type": "code",
   "source": [
    "!pip install gdown"
   ],
   "metadata": {
    "_uuid": "8f2839f25d086af736a60e9eeb907d3b93b6e0e5",
    "_cell_guid": "b1076dfc-b9ad-4769-8c92-a6c4dae69d19",
    "trusted": true
   },
   "execution_count": null,
   "outputs": []
  },
  {
   "cell_type": "code",
   "source": [
    "!pip install torch==1.11.0 torchvision==0.12.0"
   ],
   "metadata": {},
   "execution_count": null,
   "outputs": []
  },
  {
   "cell_type": "code",
   "source": [
    "import gdown\n",
    "import torch\n",
    "import torchvision\n",
    "from zipfile import ZipFile\n",
    "import os"
   ],
   "metadata": {},
   "execution_count": null,
   "outputs": []
  },
  {
   "cell_type": "code",
   "source": [
    "torch.__version__"
   ],
   "metadata": {},
   "execution_count": null,
   "outputs": []
  },
  {
   "cell_type": "markdown",
   "source": [
    "## [1] Specify model name and download URL"
   ],
   "metadata": {}
  },
  {
   "cell_type": "code",
   "source": [
    "model_name = \"\" # please specify the file name (without .zip) of the zip file which should be downloaded from Google Drive\n",
    "url = \"\" # please provide the shared link from Google Drive"
   ],
   "metadata": {},
   "execution_count": null,
   "outputs": []
  },
  {
   "cell_type": "markdown",
   "source": [
    "## [2] Download zip-file and extract model file"
   ],
   "metadata": {}
  },
  {
   "cell_type": "code",
   "source": [
    "zip_file = model_name + \".zip\"\n",
    "output_path = os.path.join(\"/kaggle/working/\", zip_file)\n",
    "\n",
    "gdown.download(url=url, output=output_path, quiet=False, fuzzy=True)\n",
    "\n",
    "with ZipFile(output_path, \"r\") as zipObj:\n",
    "    zipObj.extractall(\"/kaggle/working/\")"
   ],
   "metadata": {},
   "execution_count": null,
   "outputs": []
  },
  {
   "cell_type": "markdown",
   "source": [
    "## [3] Load model and check output shape"
   ],
   "metadata": {}
  },
  {
   "cell_type": "code",
   "source": [
    "device = torch.device('cuda' if torch.cuda.is_available() else 'cpu')\n",
    "\n",
    "model_path = \"/kaggle/working/\" + model_name + \".pt\"\n",
    "\n",
    "model = torch.jit.load(model_path, map_location=device)\n",
    "model.to(device)\n",
    "model.eval()\n",
    "\n",
    "input_tensor = torch.rand(1,3,512,512).to(device)\n",
    "out_feat = model(input_tensor)\n",
    "\n",
    "print(f\"Output type: {type(out_feat)}\")\n",
    "print(f\"Output shape: {out_feat.size()}\")"
   ],
   "metadata": {},
   "execution_count": null,
   "outputs": []
  },
  {
   "cell_type": "markdown",
   "source": [
    "## [4] Create submission zip"
   ],
   "metadata": {}
  },
  {
   "cell_type": "code",
   "source": [
    "saved_model_path = \"./saved_model.pt\"\n",
    "saved_model = torch.jit.script(model)\n",
    "saved_model.save(saved_model_path)\n",
    "\n",
    "with ZipFile('submission.zip', 'w') as zip:\n",
    "    zip.write(saved_model_path, arcname='saved_model.pt')"
   ],
   "metadata": {},
   "execution_count": null,
   "outputs": []
  }
 ]
}
